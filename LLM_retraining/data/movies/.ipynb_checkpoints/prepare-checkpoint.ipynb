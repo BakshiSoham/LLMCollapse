{
 "cells": [
  {
   "cell_type": "code",
   "execution_count": 1,
   "id": "80e81a69-73ba-4fce-a26a-4ec3a06dc920",
   "metadata": {},
   "outputs": [],
   "source": [
    "import os\n",
    "import requests\n",
    "import tiktoken\n",
    "import numpy as np\n",
    "import pandas as pd\n",
    "import random\n",
    "\n",
    "# prepare the million songs dataset\n",
    "\n",
    "df = pd.read_csv('wiki_movie_plots_deduped.csv')"
   ]
  },
  {
   "cell_type": "code",
   "execution_count": 2,
   "id": "79ecb1cb-bb3c-47b7-91bc-c2003364aada",
   "metadata": {},
   "outputs": [],
   "source": [
    "random.seed(10)\n",
    "text = df['Plot'].to_list()\n",
    "random.shuffle(text)"
   ]
  },
  {
   "cell_type": "code",
   "execution_count": 3,
   "id": "6543f12b-d70a-4b6b-939a-5b9c7bc0a0b1",
   "metadata": {},
   "outputs": [
    {
     "data": {
      "text/plain": [
       "34886"
      ]
     },
     "execution_count": 3,
     "metadata": {},
     "output_type": "execute_result"
    }
   ],
   "source": [
    "N = len(text)\n",
    "N"
   ]
  },
  {
   "cell_type": "code",
   "execution_count": 4,
   "id": "cf535641-7b5b-4ac5-99b1-e121e548e71e",
   "metadata": {},
   "outputs": [],
   "source": [
    "val_size = 100\n",
    "\n",
    "train_size = 50"
   ]
  },
  {
   "cell_type": "code",
   "execution_count": 5,
   "id": "9665b888-08f6-401c-8c4e-612559614f94",
   "metadata": {},
   "outputs": [],
   "source": [
    "T = 10\n",
    "training_text = []\n",
    "for t in range(T):\n",
    "    training_text.append('\\n'.join(text[(t*train_size):((t+1)*train_size)]))\n",
    "validation_text = '\\n'.join(text[-val_size:])"
   ]
  },
  {
   "cell_type": "code",
   "execution_count": 6,
   "id": "893b2488-9a13-4c25-8cbb-ee8f7d1a49ab",
   "metadata": {},
   "outputs": [
    {
     "name": "stdout",
     "output_type": "stream",
     "text": [
      "val has 47,067 tokens\n"
     ]
    }
   ],
   "source": [
    "enc = tiktoken.get_encoding(\"gpt2\")\n",
    "val_ids = enc.encode_ordinary(validation_text)\n",
    "print(f\"val has {len(val_ids):,} tokens\")\n",
    "val_ids = np.array(val_ids, dtype=np.uint16)\n",
    "val_ids.tofile(os.path.join('val.bin'))"
   ]
  },
  {
   "cell_type": "code",
   "execution_count": 7,
   "id": "8c607675-006c-4960-ae82-43901c70247b",
   "metadata": {},
   "outputs": [],
   "source": [
    "for t in range(T):\n",
    "    f = open(\"dataset\"+str(t)+\".txt\", \"w\")\n",
    "    f.write(training_text[t])\n",
    "    f.close()"
   ]
  },
  {
   "cell_type": "code",
   "execution_count": 8,
   "id": "2f131086-6507-44d7-b574-50dfa6b63197",
   "metadata": {},
   "outputs": [
    {
     "data": {
      "text/plain": [
       "[230.91,\n",
       " 162.71,\n",
       " 215.09,\n",
       " 198.22,\n",
       " 185.84,\n",
       " 214.14,\n",
       " 172.12,\n",
       " 188.53,\n",
       " 171.46,\n",
       " 226.14]"
      ]
     },
     "execution_count": 8,
     "metadata": {},
     "output_type": "execute_result"
    }
   ],
   "source": [
    "[len(text.split())/100 for text in training_text]"
   ]
  },
  {
   "cell_type": "code",
   "execution_count": 9,
   "id": "208e6fd5-bfb7-40f5-a21d-d0f8daaeb9c7",
   "metadata": {},
   "outputs": [],
   "source": [
    "f = open(\"samples.txt\", \"w\")\n",
    "f.write(\"\")\n",
    "f.close()"
   ]
  },
  {
   "cell_type": "code",
   "execution_count": null,
   "id": "8576f52a-fe2c-4f51-8b89-d7fc63288075",
   "metadata": {},
   "outputs": [],
   "source": []
  }
 ],
 "metadata": {
  "kernelspec": {
   "display_name": "Python 3 (ipykernel)",
   "language": "python",
   "name": "python3"
  },
  "language_info": {
   "codemirror_mode": {
    "name": "ipython",
    "version": 3
   },
   "file_extension": ".py",
   "mimetype": "text/x-python",
   "name": "python",
   "nbconvert_exporter": "python",
   "pygments_lexer": "ipython3",
   "version": "3.9.18"
  }
 },
 "nbformat": 4,
 "nbformat_minor": 5
}
